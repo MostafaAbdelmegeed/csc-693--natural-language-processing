{
 "cells": [
  {
   "cell_type": "code",
   "execution_count": 340,
   "metadata": {},
   "outputs": [],
   "source": [
    "import zipfile as zip\n",
    "import string\n",
    "import pandas as pd\n",
    "import re\n",
    "import chardet\n",
    "import nltk\n",
    "from nltk.corpus import stopwords\n",
    "from nltk.tokenize import word_tokenize, sent_tokenize\n",
    "from nltk.stem import WordNetLemmatizer\n",
    "from nltk.corpus import wordnet\n",
    "from nltk import pos_tag\n",
    "from nltk.stem import PorterStemmer"
   ]
  },
  {
   "cell_type": "code",
   "execution_count": 341,
   "metadata": {},
   "outputs": [
    {
     "name": "stderr",
     "output_type": "stream",
     "text": [
      "[nltk_data] Downloading package punkt to\n",
      "[nltk_data]     C:\\Users\\mosta\\AppData\\Roaming\\nltk_data...\n",
      "[nltk_data]   Package punkt is already up-to-date!\n",
      "[nltk_data] Downloading package stopwords to\n",
      "[nltk_data]     C:\\Users\\mosta\\AppData\\Roaming\\nltk_data...\n",
      "[nltk_data]   Package stopwords is already up-to-date!\n",
      "[nltk_data] Downloading package wordnet to\n",
      "[nltk_data]     C:\\Users\\mosta\\AppData\\Roaming\\nltk_data...\n",
      "[nltk_data]   Package wordnet is already up-to-date!\n",
      "[nltk_data] Downloading package averaged_perceptron_tagger to\n",
      "[nltk_data]     C:\\Users\\mosta\\AppData\\Roaming\\nltk_data...\n",
      "[nltk_data]   Package averaged_perceptron_tagger is already up-to-\n",
      "[nltk_data]       date!\n"
     ]
    },
    {
     "data": {
      "text/plain": [
       "True"
      ]
     },
     "execution_count": 341,
     "metadata": {},
     "output_type": "execute_result"
    }
   ],
   "source": [
    "nltk.download('punkt')\n",
    "nltk.download('stopwords')\n",
    "nltk.download('wordnet')\n",
    "nltk.download('averaged_perceptron_tagger')"
   ]
  },
  {
   "cell_type": "code",
   "execution_count": 342,
   "metadata": {},
   "outputs": [],
   "source": [
    "DATASET_PATH='../data/comments1k.zip'\n",
    "CORRUPTED_STRING_DROP_THRESHOLD=0.2"
   ]
  },
  {
   "cell_type": "code",
   "execution_count": 343,
   "metadata": {},
   "outputs": [],
   "source": [
    "def clean(text):\n",
    "    text = re.sub(r'[\\.\\,]{2,}', ' ', text)\n",
    "    return text\n",
    "\n",
    "def decode(text):\n",
    "    text = text.decode(chardet.detect(text)['encoding'])\n",
    "    return text\n",
    "\n",
    "def standardize(text):\n",
    "    text = text.lower()\n",
    "    text = text.strip()\n",
    "    return text\n",
    "\n",
    "def is_corrupted(text, threshold=CORRUPTED_STRING_DROP_THRESHOLD):\n",
    "    printable_chars = set(string.printable)\n",
    "    non_printable_count = sum(\n",
    "        1 for char in text if char not in printable_chars)\n",
    "    total_chars = len(text)\n",
    "    return (non_printable_count / total_chars) > threshold\n",
    "\n",
    "def tokenize_core(text):\n",
    "    stop_words = set(stopwords.words('english'))\n",
    "    text = text.translate(str.maketrans('', '', string.punctuation))\n",
    "    tokens = word_tokenize(text)\n",
    "    return [token for token in tokens if token not in stop_words]\n",
    "\n",
    "\n",
    "def get_wordnet_pos(treebank_tag):\n",
    "    if treebank_tag.startswith('J'):\n",
    "        return wordnet.ADJ\n",
    "    elif treebank_tag.startswith('V'):\n",
    "        return wordnet.VERB\n",
    "    elif treebank_tag.startswith('R'):\n",
    "        return wordnet.ADV\n",
    "    else:\n",
    "        return wordnet.NOUN\n",
    "    \n",
    "\n",
    "def lemmatize_tokens(tokens):\n",
    "    lemmatizer = WordNetLemmatizer()\n",
    "    pos_tagged = pos_tag(tokens)  \n",
    "    return [lemmatizer.lemmatize(token, get_wordnet_pos(tag)).lower() for token, tag in pos_tagged]\n",
    "\n",
    "def stem_tokens(tokens):\n",
    "    stemmer = PorterStemmer()\n",
    "    return [stemmer.stem(token) for token in tokens]"
   ]
  },
  {
   "cell_type": "code",
   "execution_count": 344,
   "metadata": {},
   "outputs": [],
   "source": [
    "dataset=[]"
   ]
  },
  {
   "cell_type": "code",
   "execution_count": 345,
   "metadata": {},
   "outputs": [],
   "source": [
    "with zip.ZipFile(DATASET_PATH, 'r') as d:\n",
    "    for filename in d.namelist():\n",
    "        if filename.endswith('.txt'):\n",
    "            with d.open(filename,'r') as file:\n",
    "                dataset.append(file.read())"
   ]
  },
  {
   "cell_type": "code",
   "execution_count": 346,
   "metadata": {},
   "outputs": [],
   "source": [
    "df=pd.DataFrame(dataset,columns=['comment'])"
   ]
  },
  {
   "cell_type": "code",
   "execution_count": 347,
   "metadata": {},
   "outputs": [],
   "source": [
    "df['comment'] = df['comment'].apply(decode)\n",
    "df['is_corrupted'] = df['comment'].apply(is_corrupted)\n",
    "df = df.drop_duplicates()\n",
    "df = df[~df['is_corrupted']]\n",
    "df['comment'] = df['comment'].apply(clean)"
   ]
  },
  {
   "cell_type": "code",
   "execution_count": 348,
   "metadata": {},
   "outputs": [
    {
     "name": "stdout",
     "output_type": "stream",
     "text": [
      "                                             comment  is_corrupted\n",
      "0  Hello. This movie is well okay. Just kidding! ...         False\n",
      "2  As Most Off You Might off Seen Star Wars: Retu...         False\n",
      "4  Pierce Brosnan the newest but no longer James ...         False\n"
     ]
    }
   ],
   "source": [
    "print(df.head(3))"
   ]
  },
  {
   "cell_type": "code",
   "execution_count": 349,
   "metadata": {},
   "outputs": [
    {
     "data": {
      "text/html": [
       "<div>\n",
       "<style scoped>\n",
       "    .dataframe tbody tr th:only-of-type {\n",
       "        vertical-align: middle;\n",
       "    }\n",
       "\n",
       "    .dataframe tbody tr th {\n",
       "        vertical-align: top;\n",
       "    }\n",
       "\n",
       "    .dataframe thead th {\n",
       "        text-align: right;\n",
       "    }\n",
       "</style>\n",
       "<table border=\"1\" class=\"dataframe\">\n",
       "  <thead>\n",
       "    <tr style=\"text-align: right;\">\n",
       "      <th></th>\n",
       "      <th>comment</th>\n",
       "      <th>is_corrupted</th>\n",
       "      <th>sentences</th>\n",
       "    </tr>\n",
       "  </thead>\n",
       "  <tbody>\n",
       "    <tr>\n",
       "      <th>0</th>\n",
       "      <td>Hello. This movie is well okay. Just kidding! ...</td>\n",
       "      <td>False</td>\n",
       "      <td>[Hello., This movie is well okay., Just kiddin...</td>\n",
       "    </tr>\n",
       "    <tr>\n",
       "      <th>2</th>\n",
       "      <td>As Most Off You Might off Seen Star Wars: Retu...</td>\n",
       "      <td>False</td>\n",
       "      <td>[As Most Off You Might off Seen Star Wars: Ret...</td>\n",
       "    </tr>\n",
       "    <tr>\n",
       "      <th>4</th>\n",
       "      <td>Pierce Brosnan the newest but no longer James ...</td>\n",
       "      <td>False</td>\n",
       "      <td>[Pierce Brosnan the newest but no longer James...</td>\n",
       "    </tr>\n",
       "  </tbody>\n",
       "</table>\n",
       "</div>"
      ],
      "text/plain": [
       "                                             comment  is_corrupted  \\\n",
       "0  Hello. This movie is well okay. Just kidding! ...         False   \n",
       "2  As Most Off You Might off Seen Star Wars: Retu...         False   \n",
       "4  Pierce Brosnan the newest but no longer James ...         False   \n",
       "\n",
       "                                           sentences  \n",
       "0  [Hello., This movie is well okay., Just kiddin...  \n",
       "2  [As Most Off You Might off Seen Star Wars: Ret...  \n",
       "4  [Pierce Brosnan the newest but no longer James...  "
      ]
     },
     "execution_count": 349,
     "metadata": {},
     "output_type": "execute_result"
    }
   ],
   "source": [
    "df['sentences'] = df['comment'].apply(sent_tokenize)\n",
    "df.head(3)"
   ]
  },
  {
   "cell_type": "code",
   "execution_count": 350,
   "metadata": {},
   "outputs": [
    {
     "data": {
      "text/html": [
       "<div>\n",
       "<style scoped>\n",
       "    .dataframe tbody tr th:only-of-type {\n",
       "        vertical-align: middle;\n",
       "    }\n",
       "\n",
       "    .dataframe tbody tr th {\n",
       "        vertical-align: top;\n",
       "    }\n",
       "\n",
       "    .dataframe thead th {\n",
       "        text-align: right;\n",
       "    }\n",
       "</style>\n",
       "<table border=\"1\" class=\"dataframe\">\n",
       "  <thead>\n",
       "    <tr style=\"text-align: right;\">\n",
       "      <th></th>\n",
       "      <th>comment</th>\n",
       "      <th>is_corrupted</th>\n",
       "      <th>sentences</th>\n",
       "      <th>sentences_count</th>\n",
       "    </tr>\n",
       "  </thead>\n",
       "  <tbody>\n",
       "    <tr>\n",
       "      <th>0</th>\n",
       "      <td>Hello. This movie is well okay. Just kidding! ...</td>\n",
       "      <td>False</td>\n",
       "      <td>[Hello., This movie is well okay., Just kiddin...</td>\n",
       "      <td>11</td>\n",
       "    </tr>\n",
       "    <tr>\n",
       "      <th>2</th>\n",
       "      <td>As Most Off You Might off Seen Star Wars: Retu...</td>\n",
       "      <td>False</td>\n",
       "      <td>[As Most Off You Might off Seen Star Wars: Ret...</td>\n",
       "      <td>1</td>\n",
       "    </tr>\n",
       "    <tr>\n",
       "      <th>4</th>\n",
       "      <td>Pierce Brosnan the newest but no longer James ...</td>\n",
       "      <td>False</td>\n",
       "      <td>[Pierce Brosnan the newest but no longer James...</td>\n",
       "      <td>7</td>\n",
       "    </tr>\n",
       "  </tbody>\n",
       "</table>\n",
       "</div>"
      ],
      "text/plain": [
       "                                             comment  is_corrupted  \\\n",
       "0  Hello. This movie is well okay. Just kidding! ...         False   \n",
       "2  As Most Off You Might off Seen Star Wars: Retu...         False   \n",
       "4  Pierce Brosnan the newest but no longer James ...         False   \n",
       "\n",
       "                                           sentences  sentences_count  \n",
       "0  [Hello., This movie is well okay., Just kiddin...               11  \n",
       "2  [As Most Off You Might off Seen Star Wars: Ret...                1  \n",
       "4  [Pierce Brosnan the newest but no longer James...                7  "
      ]
     },
     "execution_count": 350,
     "metadata": {},
     "output_type": "execute_result"
    }
   ],
   "source": [
    "df['sentences_count'] = df['sentences'].apply(len)\n",
    "df.head(3)"
   ]
  },
  {
   "cell_type": "code",
   "execution_count": 351,
   "metadata": {},
   "outputs": [
    {
     "data": {
      "text/plain": [
       "11"
      ]
     },
     "execution_count": 351,
     "metadata": {},
     "output_type": "execute_result"
    }
   ],
   "source": [
    "# Average number of sentences per comment\n",
    "round(df['sentences_count'].mean())"
   ]
  },
  {
   "cell_type": "code",
   "execution_count": 352,
   "metadata": {},
   "outputs": [
    {
     "data": {
      "text/html": [
       "<div>\n",
       "<style scoped>\n",
       "    .dataframe tbody tr th:only-of-type {\n",
       "        vertical-align: middle;\n",
       "    }\n",
       "\n",
       "    .dataframe tbody tr th {\n",
       "        vertical-align: top;\n",
       "    }\n",
       "\n",
       "    .dataframe thead th {\n",
       "        text-align: right;\n",
       "    }\n",
       "</style>\n",
       "<table border=\"1\" class=\"dataframe\">\n",
       "  <thead>\n",
       "    <tr style=\"text-align: right;\">\n",
       "      <th></th>\n",
       "      <th>comment</th>\n",
       "      <th>is_corrupted</th>\n",
       "      <th>sentences</th>\n",
       "      <th>sentences_count</th>\n",
       "      <th>tokens</th>\n",
       "      <th>tokens_count</th>\n",
       "    </tr>\n",
       "  </thead>\n",
       "  <tbody>\n",
       "    <tr>\n",
       "      <th>0</th>\n",
       "      <td>Hello. This movie is well okay. Just kidding! ...</td>\n",
       "      <td>False</td>\n",
       "      <td>[Hello., This movie is well okay., Just kiddin...</td>\n",
       "      <td>11</td>\n",
       "      <td>[Hello, ., This, movie, is, well, okay, ., Jus...</td>\n",
       "      <td>63</td>\n",
       "    </tr>\n",
       "    <tr>\n",
       "      <th>2</th>\n",
       "      <td>As Most Off You Might off Seen Star Wars: Retu...</td>\n",
       "      <td>False</td>\n",
       "      <td>[As Most Off You Might off Seen Star Wars: Ret...</td>\n",
       "      <td>1</td>\n",
       "      <td>[As, Most, Off, You, Might, off, Seen, Star, W...</td>\n",
       "      <td>202</td>\n",
       "    </tr>\n",
       "    <tr>\n",
       "      <th>4</th>\n",
       "      <td>Pierce Brosnan the newest but no longer James ...</td>\n",
       "      <td>False</td>\n",
       "      <td>[Pierce Brosnan the newest but no longer James...</td>\n",
       "      <td>7</td>\n",
       "      <td>[Pierce, Brosnan, the, newest, but, no, longer...</td>\n",
       "      <td>139</td>\n",
       "    </tr>\n",
       "  </tbody>\n",
       "</table>\n",
       "</div>"
      ],
      "text/plain": [
       "                                             comment  is_corrupted  \\\n",
       "0  Hello. This movie is well okay. Just kidding! ...         False   \n",
       "2  As Most Off You Might off Seen Star Wars: Retu...         False   \n",
       "4  Pierce Brosnan the newest but no longer James ...         False   \n",
       "\n",
       "                                           sentences  sentences_count  \\\n",
       "0  [Hello., This movie is well okay., Just kiddin...               11   \n",
       "2  [As Most Off You Might off Seen Star Wars: Ret...                1   \n",
       "4  [Pierce Brosnan the newest but no longer James...                7   \n",
       "\n",
       "                                              tokens  tokens_count  \n",
       "0  [Hello, ., This, movie, is, well, okay, ., Jus...            63  \n",
       "2  [As, Most, Off, You, Might, off, Seen, Star, W...           202  \n",
       "4  [Pierce, Brosnan, the, newest, but, no, longer...           139  "
      ]
     },
     "execution_count": 352,
     "metadata": {},
     "output_type": "execute_result"
    }
   ],
   "source": [
    "df['tokens'] = df['comment'].apply(word_tokenize)\n",
    "df['tokens_count'] = df['tokens'].apply(len)\n",
    "df.head(3)"
   ]
  },
  {
   "cell_type": "code",
   "execution_count": 353,
   "metadata": {},
   "outputs": [
    {
     "data": {
      "text/plain": [
       "282"
      ]
     },
     "execution_count": 353,
     "metadata": {},
     "output_type": "execute_result"
    }
   ],
   "source": [
    "# Average number of tokens per comment\n",
    "round(df['tokens_count'].mean())"
   ]
  },
  {
   "cell_type": "code",
   "execution_count": 354,
   "metadata": {},
   "outputs": [
    {
     "data": {
      "text/html": [
       "<div>\n",
       "<style scoped>\n",
       "    .dataframe tbody tr th:only-of-type {\n",
       "        vertical-align: middle;\n",
       "    }\n",
       "\n",
       "    .dataframe tbody tr th {\n",
       "        vertical-align: top;\n",
       "    }\n",
       "\n",
       "    .dataframe thead th {\n",
       "        text-align: right;\n",
       "    }\n",
       "</style>\n",
       "<table border=\"1\" class=\"dataframe\">\n",
       "  <thead>\n",
       "    <tr style=\"text-align: right;\">\n",
       "      <th></th>\n",
       "      <th>comment</th>\n",
       "      <th>is_corrupted</th>\n",
       "      <th>sentences</th>\n",
       "      <th>sentences_count</th>\n",
       "      <th>tokens</th>\n",
       "      <th>tokens_count</th>\n",
       "      <th>core_tokens</th>\n",
       "      <th>core_tokens_count</th>\n",
       "    </tr>\n",
       "  </thead>\n",
       "  <tbody>\n",
       "    <tr>\n",
       "      <th>0</th>\n",
       "      <td>Hello. This movie is well okay. Just kidding! ...</td>\n",
       "      <td>False</td>\n",
       "      <td>[Hello., This movie is well okay., Just kiddin...</td>\n",
       "      <td>11</td>\n",
       "      <td>[Hello, ., This, movie, is, well, okay, ., Jus...</td>\n",
       "      <td>63</td>\n",
       "      <td>[Hello, This, movie, well, okay, Just, kidding...</td>\n",
       "      <td>33</td>\n",
       "    </tr>\n",
       "    <tr>\n",
       "      <th>2</th>\n",
       "      <td>As Most Off You Might off Seen Star Wars: Retu...</td>\n",
       "      <td>False</td>\n",
       "      <td>[As Most Off You Might off Seen Star Wars: Ret...</td>\n",
       "      <td>1</td>\n",
       "      <td>[As, Most, Off, You, Might, off, Seen, Star, W...</td>\n",
       "      <td>202</td>\n",
       "      <td>[As, Most, Off, You, Might, Seen, Star, Wars, ...</td>\n",
       "      <td>155</td>\n",
       "    </tr>\n",
       "    <tr>\n",
       "      <th>4</th>\n",
       "      <td>Pierce Brosnan the newest but no longer James ...</td>\n",
       "      <td>False</td>\n",
       "      <td>[Pierce Brosnan the newest but no longer James...</td>\n",
       "      <td>7</td>\n",
       "      <td>[Pierce, Brosnan, the, newest, but, no, longer...</td>\n",
       "      <td>139</td>\n",
       "      <td>[Pierce, Brosnan, newest, longer, James, Bond,...</td>\n",
       "      <td>69</td>\n",
       "    </tr>\n",
       "  </tbody>\n",
       "</table>\n",
       "</div>"
      ],
      "text/plain": [
       "                                             comment  is_corrupted  \\\n",
       "0  Hello. This movie is well okay. Just kidding! ...         False   \n",
       "2  As Most Off You Might off Seen Star Wars: Retu...         False   \n",
       "4  Pierce Brosnan the newest but no longer James ...         False   \n",
       "\n",
       "                                           sentences  sentences_count  \\\n",
       "0  [Hello., This movie is well okay., Just kiddin...               11   \n",
       "2  [As Most Off You Might off Seen Star Wars: Ret...                1   \n",
       "4  [Pierce Brosnan the newest but no longer James...                7   \n",
       "\n",
       "                                              tokens  tokens_count  \\\n",
       "0  [Hello, ., This, movie, is, well, okay, ., Jus...            63   \n",
       "2  [As, Most, Off, You, Might, off, Seen, Star, W...           202   \n",
       "4  [Pierce, Brosnan, the, newest, but, no, longer...           139   \n",
       "\n",
       "                                         core_tokens  core_tokens_count  \n",
       "0  [Hello, This, movie, well, okay, Just, kidding...                 33  \n",
       "2  [As, Most, Off, You, Might, Seen, Star, Wars, ...                155  \n",
       "4  [Pierce, Brosnan, newest, longer, James, Bond,...                 69  "
      ]
     },
     "execution_count": 354,
     "metadata": {},
     "output_type": "execute_result"
    }
   ],
   "source": [
    "df['core_tokens'] = df['comment'].apply(tokenize_core)\n",
    "df['core_tokens_count'] = df['core_tokens'].apply(len)\n",
    "df.head(3)"
   ]
  },
  {
   "cell_type": "code",
   "execution_count": 355,
   "metadata": {},
   "outputs": [
    {
     "data": {
      "text/plain": [
       "136"
      ]
     },
     "execution_count": 355,
     "metadata": {},
     "output_type": "execute_result"
    }
   ],
   "source": [
    "# Average number of core tokens per comment\n",
    "round(df['core_tokens_count'].mean())"
   ]
  },
  {
   "cell_type": "code",
   "execution_count": 356,
   "metadata": {},
   "outputs": [
    {
     "data": {
      "text/html": [
       "<div>\n",
       "<style scoped>\n",
       "    .dataframe tbody tr th:only-of-type {\n",
       "        vertical-align: middle;\n",
       "    }\n",
       "\n",
       "    .dataframe tbody tr th {\n",
       "        vertical-align: top;\n",
       "    }\n",
       "\n",
       "    .dataframe thead th {\n",
       "        text-align: right;\n",
       "    }\n",
       "</style>\n",
       "<table border=\"1\" class=\"dataframe\">\n",
       "  <thead>\n",
       "    <tr style=\"text-align: right;\">\n",
       "      <th></th>\n",
       "      <th>comment</th>\n",
       "      <th>is_corrupted</th>\n",
       "      <th>sentences</th>\n",
       "      <th>sentences_count</th>\n",
       "      <th>tokens</th>\n",
       "      <th>tokens_count</th>\n",
       "      <th>core_tokens</th>\n",
       "      <th>core_tokens_count</th>\n",
       "      <th>lemmas</th>\n",
       "    </tr>\n",
       "  </thead>\n",
       "  <tbody>\n",
       "    <tr>\n",
       "      <th>0</th>\n",
       "      <td>Hello. This movie is well okay. Just kidding! ...</td>\n",
       "      <td>False</td>\n",
       "      <td>[Hello., This movie is well okay., Just kiddin...</td>\n",
       "      <td>11</td>\n",
       "      <td>[Hello, ., This, movie, is, well, okay, ., Jus...</td>\n",
       "      <td>63</td>\n",
       "      <td>[Hello, This, movie, well, okay, Just, kidding...</td>\n",
       "      <td>33</td>\n",
       "      <td>[hello, this, movie, well, okay, just, kid, it...</td>\n",
       "    </tr>\n",
       "    <tr>\n",
       "      <th>2</th>\n",
       "      <td>As Most Off You Might off Seen Star Wars: Retu...</td>\n",
       "      <td>False</td>\n",
       "      <td>[As Most Off You Might off Seen Star Wars: Ret...</td>\n",
       "      <td>1</td>\n",
       "      <td>[As, Most, Off, You, Might, off, Seen, Star, W...</td>\n",
       "      <td>202</td>\n",
       "      <td>[As, Most, Off, You, Might, Seen, Star, Wars, ...</td>\n",
       "      <td>155</td>\n",
       "      <td>[as, most, off, you, might, seen, star, wars, ...</td>\n",
       "    </tr>\n",
       "    <tr>\n",
       "      <th>4</th>\n",
       "      <td>Pierce Brosnan the newest but no longer James ...</td>\n",
       "      <td>False</td>\n",
       "      <td>[Pierce Brosnan the newest but no longer James...</td>\n",
       "      <td>7</td>\n",
       "      <td>[Pierce, Brosnan, the, newest, but, no, longer...</td>\n",
       "      <td>139</td>\n",
       "      <td>[Pierce, Brosnan, newest, longer, James, Bond,...</td>\n",
       "      <td>69</td>\n",
       "      <td>[pierce, brosnan, newest, longer, james, bond,...</td>\n",
       "    </tr>\n",
       "  </tbody>\n",
       "</table>\n",
       "</div>"
      ],
      "text/plain": [
       "                                             comment  is_corrupted  \\\n",
       "0  Hello. This movie is well okay. Just kidding! ...         False   \n",
       "2  As Most Off You Might off Seen Star Wars: Retu...         False   \n",
       "4  Pierce Brosnan the newest but no longer James ...         False   \n",
       "\n",
       "                                           sentences  sentences_count  \\\n",
       "0  [Hello., This movie is well okay., Just kiddin...               11   \n",
       "2  [As Most Off You Might off Seen Star Wars: Ret...                1   \n",
       "4  [Pierce Brosnan the newest but no longer James...                7   \n",
       "\n",
       "                                              tokens  tokens_count  \\\n",
       "0  [Hello, ., This, movie, is, well, okay, ., Jus...            63   \n",
       "2  [As, Most, Off, You, Might, off, Seen, Star, W...           202   \n",
       "4  [Pierce, Brosnan, the, newest, but, no, longer...           139   \n",
       "\n",
       "                                         core_tokens  core_tokens_count  \\\n",
       "0  [Hello, This, movie, well, okay, Just, kidding...                 33   \n",
       "2  [As, Most, Off, You, Might, Seen, Star, Wars, ...                155   \n",
       "4  [Pierce, Brosnan, newest, longer, James, Bond,...                 69   \n",
       "\n",
       "                                              lemmas  \n",
       "0  [hello, this, movie, well, okay, just, kid, it...  \n",
       "2  [as, most, off, you, might, seen, star, wars, ...  \n",
       "4  [pierce, brosnan, newest, longer, james, bond,...  "
      ]
     },
     "execution_count": 356,
     "metadata": {},
     "output_type": "execute_result"
    }
   ],
   "source": [
    "df['lemmas'] = df['core_tokens'].apply(lemmatize_tokens)\n",
    "df.head(3)"
   ]
  },
  {
   "cell_type": "code",
   "execution_count": 357,
   "metadata": {},
   "outputs": [
    {
     "data": {
      "text/html": [
       "<div>\n",
       "<style scoped>\n",
       "    .dataframe tbody tr th:only-of-type {\n",
       "        vertical-align: middle;\n",
       "    }\n",
       "\n",
       "    .dataframe tbody tr th {\n",
       "        vertical-align: top;\n",
       "    }\n",
       "\n",
       "    .dataframe thead th {\n",
       "        text-align: right;\n",
       "    }\n",
       "</style>\n",
       "<table border=\"1\" class=\"dataframe\">\n",
       "  <thead>\n",
       "    <tr style=\"text-align: right;\">\n",
       "      <th></th>\n",
       "      <th>comment</th>\n",
       "      <th>is_corrupted</th>\n",
       "      <th>sentences</th>\n",
       "      <th>sentences_count</th>\n",
       "      <th>tokens</th>\n",
       "      <th>tokens_count</th>\n",
       "      <th>core_tokens</th>\n",
       "      <th>core_tokens_count</th>\n",
       "      <th>lemmas</th>\n",
       "      <th>stems</th>\n",
       "    </tr>\n",
       "  </thead>\n",
       "  <tbody>\n",
       "    <tr>\n",
       "      <th>0</th>\n",
       "      <td>Hello. This movie is well okay. Just kidding! ...</td>\n",
       "      <td>False</td>\n",
       "      <td>[Hello., This movie is well okay., Just kiddin...</td>\n",
       "      <td>11</td>\n",
       "      <td>[Hello, ., This, movie, is, well, okay, ., Jus...</td>\n",
       "      <td>63</td>\n",
       "      <td>[Hello, This, movie, well, okay, Just, kidding...</td>\n",
       "      <td>33</td>\n",
       "      <td>[hello, this, movie, well, okay, just, kid, it...</td>\n",
       "      <td>[hello, thi, movi, well, okay, just, kid, it, ...</td>\n",
       "    </tr>\n",
       "    <tr>\n",
       "      <th>2</th>\n",
       "      <td>As Most Off You Might off Seen Star Wars: Retu...</td>\n",
       "      <td>False</td>\n",
       "      <td>[As Most Off You Might off Seen Star Wars: Ret...</td>\n",
       "      <td>1</td>\n",
       "      <td>[As, Most, Off, You, Might, off, Seen, Star, W...</td>\n",
       "      <td>202</td>\n",
       "      <td>[As, Most, Off, You, Might, Seen, Star, Wars, ...</td>\n",
       "      <td>155</td>\n",
       "      <td>[as, most, off, you, might, seen, star, wars, ...</td>\n",
       "      <td>[as, most, off, you, might, seen, star, war, r...</td>\n",
       "    </tr>\n",
       "    <tr>\n",
       "      <th>4</th>\n",
       "      <td>Pierce Brosnan the newest but no longer James ...</td>\n",
       "      <td>False</td>\n",
       "      <td>[Pierce Brosnan the newest but no longer James...</td>\n",
       "      <td>7</td>\n",
       "      <td>[Pierce, Brosnan, the, newest, but, no, longer...</td>\n",
       "      <td>139</td>\n",
       "      <td>[Pierce, Brosnan, newest, longer, James, Bond,...</td>\n",
       "      <td>69</td>\n",
       "      <td>[pierce, brosnan, newest, longer, james, bond,...</td>\n",
       "      <td>[pierc, brosnan, newest, longer, jame, bond, a...</td>\n",
       "    </tr>\n",
       "  </tbody>\n",
       "</table>\n",
       "</div>"
      ],
      "text/plain": [
       "                                             comment  is_corrupted  \\\n",
       "0  Hello. This movie is well okay. Just kidding! ...         False   \n",
       "2  As Most Off You Might off Seen Star Wars: Retu...         False   \n",
       "4  Pierce Brosnan the newest but no longer James ...         False   \n",
       "\n",
       "                                           sentences  sentences_count  \\\n",
       "0  [Hello., This movie is well okay., Just kiddin...               11   \n",
       "2  [As Most Off You Might off Seen Star Wars: Ret...                1   \n",
       "4  [Pierce Brosnan the newest but no longer James...                7   \n",
       "\n",
       "                                              tokens  tokens_count  \\\n",
       "0  [Hello, ., This, movie, is, well, okay, ., Jus...            63   \n",
       "2  [As, Most, Off, You, Might, off, Seen, Star, W...           202   \n",
       "4  [Pierce, Brosnan, the, newest, but, no, longer...           139   \n",
       "\n",
       "                                         core_tokens  core_tokens_count  \\\n",
       "0  [Hello, This, movie, well, okay, Just, kidding...                 33   \n",
       "2  [As, Most, Off, You, Might, Seen, Star, Wars, ...                155   \n",
       "4  [Pierce, Brosnan, newest, longer, James, Bond,...                 69   \n",
       "\n",
       "                                              lemmas  \\\n",
       "0  [hello, this, movie, well, okay, just, kid, it...   \n",
       "2  [as, most, off, you, might, seen, star, wars, ...   \n",
       "4  [pierce, brosnan, newest, longer, james, bond,...   \n",
       "\n",
       "                                               stems  \n",
       "0  [hello, thi, movi, well, okay, just, kid, it, ...  \n",
       "2  [as, most, off, you, might, seen, star, war, r...  \n",
       "4  [pierc, brosnan, newest, longer, jame, bond, a...  "
      ]
     },
     "execution_count": 357,
     "metadata": {},
     "output_type": "execute_result"
    }
   ],
   "source": [
    "df['stems'] = df['core_tokens'].apply(stem_tokens)\n",
    "df.head(3)"
   ]
  },
  {
   "cell_type": "code",
   "execution_count": 358,
   "metadata": {},
   "outputs": [
    {
     "data": {
      "text/html": [
       "<div>\n",
       "<style scoped>\n",
       "    .dataframe tbody tr th:only-of-type {\n",
       "        vertical-align: middle;\n",
       "    }\n",
       "\n",
       "    .dataframe tbody tr th {\n",
       "        vertical-align: top;\n",
       "    }\n",
       "\n",
       "    .dataframe thead th {\n",
       "        text-align: right;\n",
       "    }\n",
       "</style>\n",
       "<table border=\"1\" class=\"dataframe\">\n",
       "  <thead>\n",
       "    <tr style=\"text-align: right;\">\n",
       "      <th></th>\n",
       "      <th>lemmas</th>\n",
       "      <th>stems</th>\n",
       "    </tr>\n",
       "  </thead>\n",
       "  <tbody>\n",
       "    <tr>\n",
       "      <th>0</th>\n",
       "      <td>[hello, this, movie, well, okay, just, kid, it...</td>\n",
       "      <td>[hello, thi, movi, well, okay, just, kid, it, ...</td>\n",
       "    </tr>\n",
       "    <tr>\n",
       "      <th>2</th>\n",
       "      <td>[as, most, off, you, might, seen, star, wars, ...</td>\n",
       "      <td>[as, most, off, you, might, seen, star, war, r...</td>\n",
       "    </tr>\n",
       "    <tr>\n",
       "      <th>4</th>\n",
       "      <td>[pierce, brosnan, newest, longer, james, bond,...</td>\n",
       "      <td>[pierc, brosnan, newest, longer, jame, bond, a...</td>\n",
       "    </tr>\n",
       "  </tbody>\n",
       "</table>\n",
       "</div>"
      ],
      "text/plain": [
       "                                              lemmas  \\\n",
       "0  [hello, this, movie, well, okay, just, kid, it...   \n",
       "2  [as, most, off, you, might, seen, star, wars, ...   \n",
       "4  [pierce, brosnan, newest, longer, james, bond,...   \n",
       "\n",
       "                                               stems  \n",
       "0  [hello, thi, movi, well, okay, just, kid, it, ...  \n",
       "2  [as, most, off, you, might, seen, star, war, r...  \n",
       "4  [pierc, brosnan, newest, longer, jame, bond, a...  "
      ]
     },
     "execution_count": 358,
     "metadata": {},
     "output_type": "execute_result"
    }
   ],
   "source": [
    "df[['lemmas','stems']].head(3)"
   ]
  },
  {
   "cell_type": "code",
   "execution_count": 359,
   "metadata": {},
   "outputs": [],
   "source": [
    "def find_lemmas_stems_intersection(row):\n",
    "    return list(set(row['lemmas']) & set(row['stems']))"
   ]
  },
  {
   "cell_type": "code",
   "execution_count": 360,
   "metadata": {},
   "outputs": [
    {
     "data": {
      "text/html": [
       "<div>\n",
       "<style scoped>\n",
       "    .dataframe tbody tr th:only-of-type {\n",
       "        vertical-align: middle;\n",
       "    }\n",
       "\n",
       "    .dataframe tbody tr th {\n",
       "        vertical-align: top;\n",
       "    }\n",
       "\n",
       "    .dataframe thead th {\n",
       "        text-align: right;\n",
       "    }\n",
       "</style>\n",
       "<table border=\"1\" class=\"dataframe\">\n",
       "  <thead>\n",
       "    <tr style=\"text-align: right;\">\n",
       "      <th></th>\n",
       "      <th>lemmas</th>\n",
       "      <th>stems</th>\n",
       "      <th>inner_lemmas_stems</th>\n",
       "    </tr>\n",
       "  </thead>\n",
       "  <tbody>\n",
       "    <tr>\n",
       "      <th>0</th>\n",
       "      <td>[hello, this, movie, well, okay, just, kid, it...</td>\n",
       "      <td>[hello, thi, movi, well, okay, just, kid, it, ...</td>\n",
       "      <td>[me, and, just, for, not, but, kid, hello, we,...</td>\n",
       "    </tr>\n",
       "    <tr>\n",
       "      <th>2</th>\n",
       "      <td>[as, most, off, you, might, seen, star, wars, ...</td>\n",
       "      <td>[as, most, off, you, might, seen, star, war, r...</td>\n",
       "      <td>[and, tv, when, name, ben, just, are, most, st...</td>\n",
       "    </tr>\n",
       "    <tr>\n",
       "      <th>4</th>\n",
       "      <td>[pierce, brosnan, newest, longer, james, bond,...</td>\n",
       "      <td>[pierc, brosnan, newest, longer, jame, bond, a...</td>\n",
       "      <td>[drawn, see, get, now, notch, begin, event, fi...</td>\n",
       "    </tr>\n",
       "  </tbody>\n",
       "</table>\n",
       "</div>"
      ],
      "text/plain": [
       "                                              lemmas  \\\n",
       "0  [hello, this, movie, well, okay, just, kid, it...   \n",
       "2  [as, most, off, you, might, seen, star, wars, ...   \n",
       "4  [pierce, brosnan, newest, longer, james, bond,...   \n",
       "\n",
       "                                               stems  \\\n",
       "0  [hello, thi, movi, well, okay, just, kid, it, ...   \n",
       "2  [as, most, off, you, might, seen, star, war, r...   \n",
       "4  [pierc, brosnan, newest, longer, jame, bond, a...   \n",
       "\n",
       "                                  inner_lemmas_stems  \n",
       "0  [me, and, just, for, not, but, kid, hello, we,...  \n",
       "2  [and, tv, when, name, ben, just, are, most, st...  \n",
       "4  [drawn, see, get, now, notch, begin, event, fi...  "
      ]
     },
     "execution_count": 360,
     "metadata": {},
     "output_type": "execute_result"
    }
   ],
   "source": [
    "df['inner_lemmas_stems'] = df.apply(find_lemmas_stems_intersection, axis=1)\n",
    "df[['lemmas', 'stems', 'inner_lemmas_stems']].head(3)"
   ]
  },
  {
   "cell_type": "code",
   "execution_count": 361,
   "metadata": {},
   "outputs": [],
   "source": [
    "def unique_to_lemmas(row):\n",
    "    return list(set(row['lemmas']) - set(row['stems']))\n",
    "\n",
    "\n",
    "def unique_to_stems(row):\n",
    "    return list(set(row['stems']) - set(row['lemmas']))"
   ]
  },
  {
   "cell_type": "code",
   "execution_count": 362,
   "metadata": {},
   "outputs": [
    {
     "data": {
      "text/html": [
       "<div>\n",
       "<style scoped>\n",
       "    .dataframe tbody tr th:only-of-type {\n",
       "        vertical-align: middle;\n",
       "    }\n",
       "\n",
       "    .dataframe tbody tr th {\n",
       "        vertical-align: top;\n",
       "    }\n",
       "\n",
       "    .dataframe thead th {\n",
       "        text-align: right;\n",
       "    }\n",
       "</style>\n",
       "<table border=\"1\" class=\"dataframe\">\n",
       "  <thead>\n",
       "    <tr style=\"text-align: right;\">\n",
       "      <th></th>\n",
       "      <th>lemmas</th>\n",
       "      <th>stems</th>\n",
       "      <th>inner_lemmas_stems</th>\n",
       "      <th>outer_lemmas</th>\n",
       "      <th>outer_stems</th>\n",
       "    </tr>\n",
       "  </thead>\n",
       "  <tbody>\n",
       "    <tr>\n",
       "      <th>0</th>\n",
       "      <td>[hello, this, movie, well, okay, just, kid, it...</td>\n",
       "      <td>[hello, thi, movi, well, okay, just, kid, it, ...</td>\n",
       "      <td>[me, and, just, for, not, but, kid, hello, we,...</td>\n",
       "      <td>[this, ramones, movie, awesome, rollers, its]</td>\n",
       "      <td>[roller, it, ramon, awesom, thi, movi]</td>\n",
       "    </tr>\n",
       "    <tr>\n",
       "      <th>2</th>\n",
       "      <td>[as, most, off, you, might, seen, star, wars, ...</td>\n",
       "      <td>[as, most, off, you, might, seen, star, war, r...</td>\n",
       "      <td>[and, tv, when, name, ben, just, are, most, st...</td>\n",
       "      <td>[spirits, little, anything, get, producers, kn...</td>\n",
       "      <td>[it, youngl, ill, origin, smile, got, movi, li...</td>\n",
       "    </tr>\n",
       "    <tr>\n",
       "      <th>4</th>\n",
       "      <td>[pierce, brosnan, newest, longer, james, bond,...</td>\n",
       "      <td>[pierc, brosnan, newest, longer, jame, bond, a...</td>\n",
       "      <td>[drawn, see, get, now, notch, begin, event, fi...</td>\n",
       "      <td>[funny, think, separate, pierce, james, really...</td>\n",
       "      <td>[separ, funni, pierc, hilari, togeth, live, pe...</td>\n",
       "    </tr>\n",
       "  </tbody>\n",
       "</table>\n",
       "</div>"
      ],
      "text/plain": [
       "                                              lemmas  \\\n",
       "0  [hello, this, movie, well, okay, just, kid, it...   \n",
       "2  [as, most, off, you, might, seen, star, wars, ...   \n",
       "4  [pierce, brosnan, newest, longer, james, bond,...   \n",
       "\n",
       "                                               stems  \\\n",
       "0  [hello, thi, movi, well, okay, just, kid, it, ...   \n",
       "2  [as, most, off, you, might, seen, star, war, r...   \n",
       "4  [pierc, brosnan, newest, longer, jame, bond, a...   \n",
       "\n",
       "                                  inner_lemmas_stems  \\\n",
       "0  [me, and, just, for, not, but, kid, hello, we,...   \n",
       "2  [and, tv, when, name, ben, just, are, most, st...   \n",
       "4  [drawn, see, get, now, notch, begin, event, fi...   \n",
       "\n",
       "                                        outer_lemmas  \\\n",
       "0      [this, ramones, movie, awesome, rollers, its]   \n",
       "2  [spirits, little, anything, get, producers, kn...   \n",
       "4  [funny, think, separate, pierce, james, really...   \n",
       "\n",
       "                                         outer_stems  \n",
       "0             [roller, it, ramon, awesom, thi, movi]  \n",
       "2  [it, youngl, ill, origin, smile, got, movi, li...  \n",
       "4  [separ, funni, pierc, hilari, togeth, live, pe...  "
      ]
     },
     "execution_count": 362,
     "metadata": {},
     "output_type": "execute_result"
    }
   ],
   "source": [
    "df['outer_lemmas'] = df.apply(unique_to_lemmas, axis=1)\n",
    "df['outer_stems'] = df.apply(unique_to_stems, axis=1)\n",
    "df[['lemmas', 'stems', 'inner_lemmas_stems',\n",
    "    'outer_lemmas', 'outer_stems']].head(3)"
   ]
  }
 ],
 "metadata": {
  "kernelspec": {
   "display_name": "venv",
   "language": "python",
   "name": "python3"
  },
  "language_info": {
   "codemirror_mode": {
    "name": "ipython",
    "version": 3
   },
   "file_extension": ".py",
   "mimetype": "text/x-python",
   "name": "python",
   "nbconvert_exporter": "python",
   "pygments_lexer": "ipython3",
   "version": "3.11.2"
  }
 },
 "nbformat": 4,
 "nbformat_minor": 2
}
